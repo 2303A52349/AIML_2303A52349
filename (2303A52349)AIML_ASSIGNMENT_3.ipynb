{
  "nbformat": 4,
  "nbformat_minor": 0,
  "metadata": {
    "colab": {
      "provenance": []
    },
    "kernelspec": {
      "name": "python3",
      "display_name": "Python 3"
    },
    "language_info": {
      "name": "python"
    }
  },
  "cells": [
    {
      "cell_type": "code",
      "execution_count": 8,
      "metadata": {
        "id": "P6KZQDRxs4Nm"
      },
      "outputs": [],
      "source": [
        "from collections import namedtuple, Counter, defaultdict\n",
        "import random\n",
        "import math\n",
        "import functools"
      ]
    },
    {
      "cell_type": "code",
      "source": [
        "class Game:\n",
        "  def action(self, state): # Available moves\n",
        "      raise NotImplementedError\n",
        "\n",
        "  def result(self, state, move): # returns state that results from making a move from a state\n",
        "    raise NotImplementedError\n",
        "\n",
        "  def is_terminal(self, state): # check Final state True/False\n",
        "    return not self.actions(state)\n",
        "\n",
        "  def utility(self, state, player): # Final state\n",
        "    raise NotImplementedError\n"
      ],
      "metadata": {
        "id": "YhxgRKFFtVUL"
      },
      "execution_count": 9,
      "outputs": []
    },
    {
      "cell_type": "code",
      "source": [
        "def play_game(game, strategies: dict, verbose=False):\n",
        "  state = game.initial\n",
        "\n",
        "  while not game.is_terminal(state):\n",
        "    player = state.to_move\n",
        "    move = strategies[player](game, state)\n",
        "    state = game.result(state, move)\n",
        "    if verbose:\n",
        "      print('Player', player, 'move', move)\n",
        "      print(state)\n",
        "  return state"
      ],
      "metadata": {
        "id": "KGAXErml3Lpf"
      },
      "execution_count": 10,
      "outputs": []
    },
    {
      "cell_type": "markdown",
      "source": [],
      "metadata": {
        "id": "SHwVXx3ZBSik"
      }
    },
    {
      "cell_type": "code",
      "source": [
        "def minimax_search(game, state):\n",
        "  player = state.to_move\n",
        "\n",
        "  def max_value(state):\n",
        "    if game.is_termianal(state):\n",
        "      return game.utility(state, player), None\n",
        "    v, move = -infinity, None\n",
        "    for a in game.actions(state):\n",
        "      v2, _ = min_value(game.result(state, a))\n",
        "      if v2 > v:\n",
        "        v, move = v2, a\n",
        "    return v, move\n",
        "\n",
        "  def min_value(state):\n",
        "    if game.is_terminal(state):\n",
        "      return game.utility(state, player), None\n",
        "    v, move = +infinity, None\n",
        "    for a in game.acton(state):\n",
        "      v2, _ = max_value(game.result(state, a))\n",
        "      if v2 < v:\n",
        "        v, move = v2, a\n",
        "    return v, move\n",
        "  return max_value(state)\n",
        "\n",
        "infinity = math.inf"
      ],
      "metadata": {
        "id": "XpWezwWjBTeO"
      },
      "execution_count": 11,
      "outputs": []
    },
    {
      "cell_type": "code",
      "source": [
        "def alphabeta_search(game, state):\n",
        "  player = state.to_move\n",
        "  def max_value(state, alpha, beta):\n",
        "    if game.is_terminal(state):\n",
        "      return game.utility(state, player), None\n",
        "    v, move = -infinity, None\n",
        "    for a in game.actions(state):\n",
        "      v2, _ = min_value(game.result(state, a), alpha, beta)\n",
        "      if v2 > v:\n",
        "        v, move = v2, a\n",
        "        alpha = max(alpha, v)\n",
        "      if v>= beta:\n",
        "        return v, move\n",
        "    return v, move\n",
        "\n",
        "  def min_value(state, alpha, beta):\n",
        "    if game.is_terminal(state):\n",
        "      return game.utility(state, player), None\n",
        "    v, move = +infinity, None\n",
        "    for a in game.actions(state):\n",
        "      v2, _ = max_value(game.result(state, a), alpha, beta)\n",
        "      if v2 < v:\n",
        "        v, move = v2, a\n",
        "        beta = min(beta, v)\n",
        "      if v <= alpha:\n",
        "        return v, move\n",
        "    return v, move\n",
        "  return max_value(state, -infinity, +infinity)"
      ],
      "metadata": {
        "id": "paVk-3B45PTy"
      },
      "execution_count": 12,
      "outputs": []
    },
    {
      "cell_type": "markdown",
      "source": [],
      "metadata": {
        "id": "3JaiG-9t9Ck3"
      }
    },
    {
      "cell_type": "code",
      "source": [
        "class TicTacToe(Game):\n",
        "  def __init__(self, height=3, width=3, k=3):\n",
        "    self.k = k\n",
        "    self.square = {(x, y) for x in range(width) for y in range(height)}\n",
        "    self.initial = Board(height = height, width = width, to_move = 'X', utility=0)\n",
        "\n",
        "  def actions(self, board):\n",
        "    return self.square - set(board)\n",
        "\n",
        "  def result(self, board, square):\n",
        "    player = board.to_move\n",
        "    board = board.new({square: player}, to_move=('O' if player == 'X' else 'X'))\n",
        "    win = k_in_row(board, player, square, self.k)\n",
        "    board.utility = (0 if not win else +1 if player == 'X' else -1)\n",
        "    return board\n",
        "  def utility(self, board, player):\n",
        "    return board.utility if player == 'X' else -board.utility\n",
        "\n",
        "  def is_terminal(self, board):\n",
        "    return board.utility != 0 or len(self.square) == len(board)\n",
        "\n",
        "def k_in_row(board, player, square, k):\n",
        "  def in_row(x, y, dx, dy):\n",
        "    return 0 if board[x,y] != player else 1+in_row(x+dx, y+dy, dx, dy)\n",
        "  return any(in_row(*square, dx, dy) + in_row(*square, -dx, -dy)-1 >= k\n",
        "             for (dx, dy) in ((0,1), (1,0), (1,1), (1,-1)))\n"
      ],
      "metadata": {
        "id": "w5-NeNZF9BuA"
      },
      "execution_count": 13,
      "outputs": []
    },
    {
      "cell_type": "code",
      "source": [
        "class Board(defaultdict):\n",
        "  empty = '.'\n",
        "  off = '#'\n",
        "\n",
        "  def __init__(self, width=8, height=8, to_move=None, **kwds):\n",
        "    self.__dict__.update(width=width, height=height, to_move=to_move, **kwds)\n",
        "\n",
        "  def new(self, changes: dict, **kwds) -> 'Board':\n",
        "        board = Board(width=self.width, height=self.height, **kwds)\n",
        "        board.update(self)\n",
        "        board.update(changes)\n",
        "        return board\n",
        "\n",
        "  def __missing__(self, loc):\n",
        "      x, y = loc\n",
        "      if 0 <= x < self.width and 0 <= y < self.height:\n",
        "          return self.empty\n",
        "      else:\n",
        "          return self.off\n",
        "\n",
        "  def __hash__(self):\n",
        "      return hash(tuple(sorted(self.items()))) + hash(self.to_move)\n",
        "\n",
        "  def __repr__(self):\n",
        "      def row(y): return ' '.join(self[x, y] for x in range(self.width))\n",
        "      return '\\n'.join(map(row, range(self.height))) +  '\\n'"
      ],
      "metadata": {
        "id": "39VyO_yjBoN3"
      },
      "execution_count": 14,
      "outputs": []
    },
    {
      "cell_type": "code",
      "source": [
        "def random_player(game, state):\n",
        "  return random.choice(list(game.actions(state)))\n",
        "\n",
        "def player(search_algorithm):\n",
        "    return lambda game, state: search_algorithm(game, state)[1]"
      ],
      "metadata": {
        "id": "eiwJ33BhEbS4"
      },
      "execution_count": 15,
      "outputs": []
    },
    {
      "cell_type": "code",
      "source": [
        "def random_player(game, state): return random.choice(list(game.actions(state)))\n",
        "\n",
        "def player(search_algorithm):\n",
        "    return lambda game, state: search_algorithm(game, state)[1]"
      ],
      "metadata": {
        "id": "7qyCp-D9C6jH"
      },
      "execution_count": 16,
      "outputs": []
    },
    {
      "cell_type": "code",
      "source": [
        "play_game(TicTacToe(), dict(X=random_player, O=player(alphabeta_search)), verbose=True).utility"
      ],
      "metadata": {
        "colab": {
          "base_uri": "https://localhost:8080/"
        },
        "id": "ViGM5Aq1C--k",
        "outputId": "2920b2dc-a706-469d-d972-2f5d903e1e0c"
      },
      "execution_count": 17,
      "outputs": [
        {
          "output_type": "stream",
          "name": "stdout",
          "text": [
            "Player X move (1, 1)\n",
            ". . .\n",
            ". X .\n",
            ". . .\n",
            "\n",
            "Player O move (0, 0)\n",
            "O . .\n",
            ". X .\n",
            ". . .\n",
            "\n",
            "Player X move (0, 2)\n",
            "O . .\n",
            ". X .\n",
            "X . .\n",
            "\n",
            "Player O move (2, 0)\n",
            "O . O\n",
            ". X .\n",
            "X . .\n",
            "\n",
            "Player X move (2, 1)\n",
            "O . O\n",
            ". X X\n",
            "X . .\n",
            "\n",
            "Player O move (1, 0)\n",
            "O O O\n",
            ". X X\n",
            "X . .\n",
            "\n"
          ]
        },
        {
          "output_type": "execute_result",
          "data": {
            "text/plain": [
              "-1"
            ]
          },
          "metadata": {},
          "execution_count": 17
        }
      ]
    }
  ]
}